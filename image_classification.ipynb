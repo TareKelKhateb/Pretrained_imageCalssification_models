{
  "nbformat": 4,
  "nbformat_minor": 0,
  "metadata": {
    "colab": {
      "provenance": [],
      "gpuType": "T4"
    },
    "kernelspec": {
      "name": "python3",
      "display_name": "Python 3"
    },
    "language_info": {
      "name": "python"
    },
    "accelerator": "GPU"
  },
  "cells": [
    {
      "cell_type": "code",
      "execution_count": null,
      "metadata": {
        "colab": {
          "base_uri": "https://localhost:8080/"
        },
        "id": "LXFZTTepEqTW",
        "outputId": "f35937f1-e873-4656-d321-6fcfbfc3534b"
      },
      "outputs": [
        {
          "output_type": "stream",
          "name": "stdout",
          "text": [
            "--2023-07-29 09:07:19--  https://storage.googleapis.com/mledu-datasets/cats_and_dogs_filtered.zip\n",
            "Resolving storage.googleapis.com (storage.googleapis.com)... 74.125.200.128, 74.125.68.128, 64.233.170.128, ...\n",
            "Connecting to storage.googleapis.com (storage.googleapis.com)|74.125.200.128|:443... connected.\n",
            "HTTP request sent, awaiting response... 200 OK\n",
            "Length: 68606236 (65M) [application/zip]\n",
            "Saving to: ‘/tmp/cats_and_dogs_filtered.zip’\n",
            "\n",
            "/tmp/cats_and_dogs_ 100%[===================>]  65.43M  19.9MB/s    in 4.0s    \n",
            "\n",
            "2023-07-29 09:07:23 (16.5 MB/s) - ‘/tmp/cats_and_dogs_filtered.zip’ saved [68606236/68606236]\n",
            "\n"
          ]
        }
      ],
      "source": [
        "!wget --no-check-certificate \\\n",
        "    https://storage.googleapis.com/mledu-datasets/cats_and_dogs_filtered.zip \\\n",
        "    -O /tmp/cats_and_dogs_filtered.zip"
      ]
    },
    {
      "cell_type": "code",
      "source": [
        "import zipfile\n",
        "import os\n",
        "local_zip = '/tmp/cats_and_dogs_filtered.zip'\n",
        "zip_ref = zipfile.ZipFile(local_zip, 'r')\n",
        "zip_ref.extractall('/tmp')\n",
        "zip_ref.close()\n",
        "\n",
        "base_dir = '/tmp/cats_and_dogs_filtered'\n",
        "train_dir = os.path.join(base_dir, 'train')\n",
        "validation_dir = os.path.join(base_dir, 'validation')\n",
        "\n",
        "# Directory with our training cat pictures\n",
        "train_cats_dir = os.path.join(train_dir, 'cats')\n",
        "\n",
        "# Directory with our training dog pictures\n",
        "train_dogs_dir = os.path.join(train_dir, 'dogs')\n",
        "\n",
        "# Directory with our validation cat pictures\n",
        "validation_cats_dir = os.path.join(validation_dir, 'cats')\n",
        "\n",
        "# Directory with our validation dog pictures\n",
        "validation_dogs_dir = os.path.join(validation_dir, 'dogs')"
      ],
      "metadata": {
        "id": "jYjeZtTuErxF"
      },
      "execution_count": null,
      "outputs": []
    },
    {
      "cell_type": "code",
      "source": [
        "from tensorflow.keras.preprocessing.image import ImageDataGenerator\n",
        "\n",
        "# Add our data-augmentation parameters to ImageDataGenerator\n",
        "train_datagen = ImageDataGenerator(rescale = 1./255.,\n",
        "                                   rotation_range = 40,\n",
        "                                   width_shift_range = 0.2,\n",
        "                                   height_shift_range = 0.2,\n",
        "                                   shear_range = 0.2,\n",
        "                                   zoom_range = 0.2,\n",
        "                                   horizontal_flip = True)\n",
        "\n",
        "# Note that the validation data should not be augmented!\n",
        "test_datagen = ImageDataGenerator( rescale = 1.0/255. )"
      ],
      "metadata": {
        "id": "E1P1jTp2FZqV"
      },
      "execution_count": null,
      "outputs": []
    },
    {
      "cell_type": "code",
      "source": [
        "train_generator = train_datagen.flow_from_directory(train_dir, batch_size = 20, class_mode = 'binary', target_size = (224, 224))\n",
        "\n",
        "# Flow validation images in batches of 20 using test_datagen generator\n",
        "validation_generator = test_datagen.flow_from_directory( validation_dir,  batch_size = 20, class_mode = 'binary', target_size = (224, 224))\n"
      ],
      "metadata": {
        "colab": {
          "base_uri": "https://localhost:8080/"
        },
        "id": "W3CzfYDEGF1p",
        "outputId": "5996ee9f-efd8-4ad8-e77a-1ac98f1909ae"
      },
      "execution_count": null,
      "outputs": [
        {
          "output_type": "stream",
          "name": "stdout",
          "text": [
            "Found 2000 images belonging to 2 classes.\n",
            "Found 1000 images belonging to 2 classes.\n"
          ]
        }
      ]
    },
    {
      "cell_type": "code",
      "source": [
        "from tensorflow.keras.applications.vgg16 import VGG16\n",
        "\n",
        "base_model = VGG16(input_shape = (224, 224, 3), # Shape of our images\n",
        "include_top = False, # Leave out the last fully connected layer\n",
        "weights = 'imagenet')"
      ],
      "metadata": {
        "id": "0ZZ5CvTVGj0Q",
        "colab": {
          "base_uri": "https://localhost:8080/"
        },
        "outputId": "960558cc-19e0-44ff-d231-9693e39d9f6f"
      },
      "execution_count": null,
      "outputs": [
        {
          "output_type": "stream",
          "name": "stdout",
          "text": [
            "Downloading data from https://storage.googleapis.com/tensorflow/keras-applications/vgg16/vgg16_weights_tf_dim_ordering_tf_kernels_notop.h5\n",
            "58889256/58889256 [==============================] - 3s 0us/step\n"
          ]
        }
      ]
    },
    {
      "cell_type": "code",
      "source": [
        "for layer in base_model.layers:\n",
        "  layer.trainable=False"
      ],
      "metadata": {
        "id": "IyxnWbU7VtFV"
      },
      "execution_count": null,
      "outputs": []
    },
    {
      "cell_type": "code",
      "source": [
        "import tensorflow as tf\n",
        "from tensorflow.keras import layers\n",
        "# Flatten the output layer to 1 dimension\n",
        "x = layers.Flatten()(base_model.output)\n",
        "\n",
        "# Add a fully connected layer with 512 hidden units and ReLU activation\n",
        "x = layers.Dense(512, activation='relu')(x)\n",
        "\n",
        "# Add a dropout rate of 0.5\n",
        "x = layers.Dropout(0.5)(x)\n",
        "\n",
        "# Add a final sigmoid layer with 1 node for classification output\n",
        "x = layers.Dense(1, activation='sigmoid')(x)\n",
        "\n",
        "model = tf.keras.models.Model(base_model.input, x)\n",
        "\n",
        "model.compile(optimizer = tf.keras.optimizers.RMSprop(lr=0.0001), loss = 'binary_crossentropy',metrics = ['acc'])"
      ],
      "metadata": {
        "colab": {
          "base_uri": "https://localhost:8080/"
        },
        "id": "gxt9SMTGGqP5",
        "outputId": "1935d65f-fbf0-4eba-f885-31795509e274"
      },
      "execution_count": null,
      "outputs": [
        {
          "output_type": "stream",
          "name": "stderr",
          "text": [
            "WARNING:absl:`lr` is deprecated in Keras optimizer, please use `learning_rate` or use the legacy optimizer, e.g.,tf.keras.optimizers.legacy.RMSprop.\n"
          ]
        }
      ]
    },
    {
      "cell_type": "code",
      "source": [
        "vgghist = model.fit(train_generator, validation_data = validation_generator, steps_per_epoch = 100, epochs = 10)"
      ],
      "metadata": {
        "id": "vEmt9OgTN3UR",
        "colab": {
          "base_uri": "https://localhost:8080/"
        },
        "outputId": "ef377e69-315e-428c-e8d6-55ae5dbbd7d6"
      },
      "execution_count": null,
      "outputs": [
        {
          "output_type": "stream",
          "name": "stdout",
          "text": [
            "Epoch 1/10\n",
            "100/100 [==============================] - 59s 469ms/step - loss: 1.5619 - acc: 0.6175 - val_loss: 0.4201 - val_acc: 0.8150\n",
            "Epoch 2/10\n",
            "100/100 [==============================] - 37s 371ms/step - loss: 0.5136 - acc: 0.7430 - val_loss: 0.3131 - val_acc: 0.8680\n",
            "Epoch 3/10\n",
            "100/100 [==============================] - 37s 366ms/step - loss: 0.4570 - acc: 0.7880 - val_loss: 0.3049 - val_acc: 0.8640\n",
            "Epoch 4/10\n",
            "100/100 [==============================] - 36s 359ms/step - loss: 0.4221 - acc: 0.8090 - val_loss: 0.2536 - val_acc: 0.8980\n",
            "Epoch 5/10\n",
            "100/100 [==============================] - 36s 359ms/step - loss: 0.3802 - acc: 0.8260 - val_loss: 0.2753 - val_acc: 0.8780\n",
            "Epoch 6/10\n",
            "100/100 [==============================] - 39s 386ms/step - loss: 0.3876 - acc: 0.8255 - val_loss: 0.2170 - val_acc: 0.9110\n",
            "Epoch 7/10\n",
            "100/100 [==============================] - 36s 361ms/step - loss: 0.3890 - acc: 0.8285 - val_loss: 0.2102 - val_acc: 0.9160\n",
            "Epoch 8/10\n",
            "100/100 [==============================] - 36s 363ms/step - loss: 0.3569 - acc: 0.8420 - val_loss: 0.2912 - val_acc: 0.8820\n",
            "Epoch 9/10\n",
            "100/100 [==============================] - 36s 359ms/step - loss: 0.3653 - acc: 0.8390 - val_loss: 0.2116 - val_acc: 0.9090\n",
            "Epoch 10/10\n",
            "100/100 [==============================] - 36s 357ms/step - loss: 0.3621 - acc: 0.8430 - val_loss: 0.2090 - val_acc: 0.9150\n"
          ]
        }
      ]
    },
    {
      "cell_type": "code",
      "source": [
        "train_datagen = ImageDataGenerator(rescale = 1./255., rotation_range = 40, width_shift_range = 0.2, height_shift_range = 0.2,shear_range = 0.2, zoom_range = 0.2, horizontal_flip = True)\n",
        "\n",
        "test_datagen = ImageDataGenerator( rescale = 1.0/255. )"
      ],
      "metadata": {
        "id": "6U_-BLT6WafN"
      },
      "execution_count": null,
      "outputs": []
    },
    {
      "cell_type": "code",
      "source": [
        "train_generator = train_datagen.flow_from_directory(train_dir, batch_size = 20, class_mode = 'binary', target_size = (150, 150))\n",
        "validation_generator = test_datagen.flow_from_directory(validation_dir, batch_size = 20, class_mode = 'binary', target_size = (150, 150))"
      ],
      "metadata": {
        "colab": {
          "base_uri": "https://localhost:8080/"
        },
        "id": "pmM8Y_rm5psT",
        "outputId": "7909eae9-0b8b-4da1-c627-e3a7abb5b9c0"
      },
      "execution_count": null,
      "outputs": [
        {
          "output_type": "stream",
          "name": "stdout",
          "text": [
            "Found 2000 images belonging to 2 classes.\n",
            "Found 1000 images belonging to 2 classes.\n"
          ]
        }
      ]
    },
    {
      "cell_type": "code",
      "source": [
        "from tensorflow.keras.applications.inception_v3 import InceptionV3\n",
        "base_model = InceptionV3(input_shape = (150, 150, 3), include_top = False, weights = 'imagenet')"
      ],
      "metadata": {
        "colab": {
          "base_uri": "https://localhost:8080/"
        },
        "id": "XhV6z-DI56KV",
        "outputId": "4a2f385f-fd36-4a21-e84b-4a064228b1e7"
      },
      "execution_count": null,
      "outputs": [
        {
          "output_type": "stream",
          "name": "stdout",
          "text": [
            "Downloading data from https://storage.googleapis.com/tensorflow/keras-applications/inception_v3/inception_v3_weights_tf_dim_ordering_tf_kernels_notop.h5\n",
            "87910968/87910968 [==============================] - 5s 0us/step\n"
          ]
        }
      ]
    },
    {
      "cell_type": "code",
      "source": [
        "for layer in base_model.layers:\n",
        "    layer.trainable = False"
      ],
      "metadata": {
        "id": "9OGvWaNp6Agm"
      },
      "execution_count": null,
      "outputs": []
    },
    {
      "cell_type": "code",
      "source": [
        "from tensorflow.keras.optimizers import RMSprop\n",
        "\n",
        "x = layers.Flatten()(base_model.output)\n",
        "x = layers.Dense(1024, activation='relu')(x)\n",
        "x = layers.Dropout(0.2)(x)\n",
        "\n",
        "# Add a final sigmoid layer with 1 node for classification output\n",
        "x = layers.Dense(1, activation='sigmoid')(x)\n",
        "\n",
        "model = tf.keras.models.Model(base_model.input, x)\n",
        "\n",
        "model.compile(optimizer = RMSprop(lr=0.0001), loss = 'binary_crossentropy', metrics = ['acc'])"
      ],
      "metadata": {
        "colab": {
          "base_uri": "https://localhost:8080/"
        },
        "id": "RQ54EkuG6CTG",
        "outputId": "b78a8850-e957-4746-9592-5b130687dd48"
      },
      "execution_count": null,
      "outputs": [
        {
          "output_type": "stream",
          "name": "stderr",
          "text": [
            "WARNING:absl:`lr` is deprecated in Keras optimizer, please use `learning_rate` or use the legacy optimizer, e.g.,tf.keras.optimizers.legacy.RMSprop.\n"
          ]
        }
      ]
    },
    {
      "cell_type": "code",
      "source": [
        "inc_history = model.fit_generator(train_generator, validation_data = validation_generator, steps_per_epoch = 100, epochs = 10)"
      ],
      "metadata": {
        "colab": {
          "base_uri": "https://localhost:8080/"
        },
        "id": "vJ3f096q6IVO",
        "outputId": "7e5051cb-0da5-4187-a7fc-fa51a2936b0a"
      },
      "execution_count": null,
      "outputs": [
        {
          "output_type": "stream",
          "name": "stdout",
          "text": [
            "Epoch 1/10\n"
          ]
        },
        {
          "output_type": "stream",
          "name": "stderr",
          "text": [
            "<ipython-input-17-8d91753fef64>:1: UserWarning: `Model.fit_generator` is deprecated and will be removed in a future version. Please use `Model.fit`, which supports generators.\n",
            "  inc_history = model.fit_generator(train_generator, validation_data = validation_generator, steps_per_epoch = 100, epochs = 10)\n"
          ]
        },
        {
          "output_type": "stream",
          "name": "stdout",
          "text": [
            "100/100 [==============================] - 26s 200ms/step - loss: 10.8356 - acc: 0.8315 - val_loss: 0.2139 - val_acc: 0.9600\n",
            "Epoch 2/10\n",
            "100/100 [==============================] - 19s 185ms/step - loss: 0.5140 - acc: 0.8770 - val_loss: 0.1795 - val_acc: 0.9480\n",
            "Epoch 3/10\n",
            "100/100 [==============================] - 18s 182ms/step - loss: 0.3229 - acc: 0.8920 - val_loss: 0.1338 - val_acc: 0.9490\n",
            "Epoch 4/10\n",
            "100/100 [==============================] - 18s 177ms/step - loss: 0.2763 - acc: 0.9015 - val_loss: 0.1419 - val_acc: 0.9560\n",
            "Epoch 5/10\n",
            "100/100 [==============================] - 19s 186ms/step - loss: 0.2479 - acc: 0.9055 - val_loss: 0.3389 - val_acc: 0.9150\n",
            "Epoch 6/10\n",
            "100/100 [==============================] - 23s 227ms/step - loss: 0.2317 - acc: 0.9170 - val_loss: 0.1027 - val_acc: 0.9660\n",
            "Epoch 7/10\n",
            "100/100 [==============================] - 17s 172ms/step - loss: 0.2196 - acc: 0.9210 - val_loss: 0.1169 - val_acc: 0.9420\n",
            "Epoch 8/10\n",
            "100/100 [==============================] - 17s 175ms/step - loss: 0.2018 - acc: 0.9215 - val_loss: 0.2851 - val_acc: 0.9210\n",
            "Epoch 9/10\n",
            "100/100 [==============================] - 18s 180ms/step - loss: 0.2005 - acc: 0.9285 - val_loss: 0.1040 - val_acc: 0.9560\n",
            "Epoch 10/10\n",
            "100/100 [==============================] - 18s 183ms/step - loss: 0.2325 - acc: 0.9120 - val_loss: 0.1452 - val_acc: 0.9510\n"
          ]
        }
      ]
    },
    {
      "cell_type": "code",
      "source": [
        "train_datagen = ImageDataGenerator(rescale = 1./255., rotation_range = 40, width_shift_range = 0.2, height_shift_range = 0.2, shear_range = 0.2, zoom_range = 0.2, horizontal_flip = True)\n",
        "\n",
        "test_datagen = ImageDataGenerator(rescale = 1.0/255.)\n",
        "\n",
        "train_generator = train_datagen.flow_from_directory(train_dir, batch_size = 20, class_mode = 'binary', target_size = (224, 224))\n",
        "\n",
        "validation_generator = test_datagen.flow_from_directory( validation_dir, batch_size = 20, class_mode = 'binary', target_size = (224, 224))"
      ],
      "metadata": {
        "colab": {
          "base_uri": "https://localhost:8080/"
        },
        "id": "oYDWMX5T7dpB",
        "outputId": "f5490e6d-60c0-4d22-f09f-7be386475fff"
      },
      "execution_count": null,
      "outputs": [
        {
          "output_type": "stream",
          "name": "stdout",
          "text": [
            "Found 2000 images belonging to 2 classes.\n",
            "Found 1000 images belonging to 2 classes.\n"
          ]
        }
      ]
    },
    {
      "cell_type": "code",
      "source": [
        "from tensorflow.keras.applications import ResNet50\n",
        "\n",
        "base_model = ResNet50(input_shape=(224, 224,3), include_top=False, weights=\"imagenet\")"
      ],
      "metadata": {
        "id": "MtjADcdv7m6g"
      },
      "execution_count": null,
      "outputs": []
    },
    {
      "cell_type": "code",
      "source": [
        "for layers in base_model.layers:\n",
        "  layers.trainable=False"
      ],
      "metadata": {
        "id": "j_cRSJU9AjGf"
      },
      "execution_count": null,
      "outputs": []
    },
    {
      "cell_type": "code",
      "source": [
        "from tensorflow.python.keras.layers.core import Dropout\n",
        "from tensorflow.keras.applications import ResNet50\n",
        "from tensorflow.keras.models import Sequential\n",
        "from tensorflow.keras.layers import Dense, Flatten, GlobalAveragePooling2D\n",
        "\n",
        "base_model = Sequential()\n",
        "base_model.add(ResNet50(include_top=False, weights='imagenet', pooling='max'))\n",
        "\n",
        "for layers in base_model.layers:\n",
        "  layers.trainable=False\n",
        "\n",
        "base_model.add(Dense(500, activation='relu'))\n",
        "base_model.add(Dropout(0.2))\n",
        "base_model.add(Dense(500, activation='relu'))\n",
        "base_model.add(Dropout(0.2))\n",
        "base_model.add(Dense(1, activation='sigmoid'))"
      ],
      "metadata": {
        "id": "GfDzbq8CEvJ0"
      },
      "execution_count": null,
      "outputs": []
    },
    {
      "cell_type": "code",
      "source": [
        "base_model.compile(optimizer = tf.keras.optimizers.SGD(lr=0.001), loss = 'binary_crossentropy', metrics = ['acc'])"
      ],
      "metadata": {
        "colab": {
          "base_uri": "https://localhost:8080/"
        },
        "id": "DdFSA_g_9dbH",
        "outputId": "22c8555b-3174-4214-e5d5-c8bea2b5af3a"
      },
      "execution_count": null,
      "outputs": [
        {
          "output_type": "stream",
          "name": "stderr",
          "text": [
            "WARNING:absl:`lr` is deprecated in Keras optimizer, please use `learning_rate` or use the legacy optimizer, e.g.,tf.keras.optimizers.legacy.SGD.\n"
          ]
        }
      ]
    },
    {
      "cell_type": "code",
      "source": [
        "early_stopping =tf.keras.callbacks.EarlyStopping(patience=20)"
      ],
      "metadata": {
        "id": "-wPhRjUCN7fk"
      },
      "execution_count": null,
      "outputs": []
    },
    {
      "cell_type": "code",
      "source": [
        "resnet_history = model.fit(train_generator, validation_data = validation_generator, epochs = 100,callbacks=[early_stopping])\n"
      ],
      "metadata": {
        "colab": {
          "base_uri": "https://localhost:8080/"
        },
        "id": "RvFWT3bU7rMa",
        "outputId": "a65f0987-9868-424a-f45c-b18dc71aaea1"
      },
      "execution_count": null,
      "outputs": [
        {
          "output_type": "stream",
          "name": "stdout",
          "text": [
            "Epoch 1/100\n",
            "100/100 [==============================] - 34s 337ms/step - loss: 0.6655 - acc: 0.5975 - val_loss: 0.6454 - val_acc: 0.6240\n",
            "Epoch 2/100\n",
            "100/100 [==============================] - 33s 325ms/step - loss: 0.6603 - acc: 0.6025 - val_loss: 0.6491 - val_acc: 0.6230\n",
            "Epoch 3/100\n",
            "100/100 [==============================] - 37s 371ms/step - loss: 0.6611 - acc: 0.6055 - val_loss: 0.6625 - val_acc: 0.5980\n",
            "Epoch 4/100\n",
            "100/100 [==============================] - 33s 328ms/step - loss: 0.6586 - acc: 0.6080 - val_loss: 0.6435 - val_acc: 0.6280\n",
            "Epoch 5/100\n",
            "100/100 [==============================] - 34s 340ms/step - loss: 0.6614 - acc: 0.5985 - val_loss: 0.6434 - val_acc: 0.6310\n",
            "Epoch 6/100\n",
            "100/100 [==============================] - 34s 341ms/step - loss: 0.6582 - acc: 0.6135 - val_loss: 0.6431 - val_acc: 0.6190\n",
            "Epoch 7/100\n",
            "100/100 [==============================] - 33s 327ms/step - loss: 0.6578 - acc: 0.6065 - val_loss: 0.6444 - val_acc: 0.6230\n",
            "Epoch 8/100\n",
            "100/100 [==============================] - 34s 342ms/step - loss: 0.6592 - acc: 0.6205 - val_loss: 0.7277 - val_acc: 0.5110\n",
            "Epoch 9/100\n",
            "100/100 [==============================] - 34s 343ms/step - loss: 0.6606 - acc: 0.6040 - val_loss: 0.6613 - val_acc: 0.6000\n",
            "Epoch 10/100\n",
            "100/100 [==============================] - 34s 342ms/step - loss: 0.6555 - acc: 0.6200 - val_loss: 0.6453 - val_acc: 0.6400\n",
            "Epoch 11/100\n",
            "100/100 [==============================] - 34s 340ms/step - loss: 0.6597 - acc: 0.6010 - val_loss: 0.6554 - val_acc: 0.5960\n",
            "Epoch 12/100\n",
            "100/100 [==============================] - 35s 347ms/step - loss: 0.6623 - acc: 0.6075 - val_loss: 0.6666 - val_acc: 0.5980\n",
            "Epoch 13/100\n",
            "100/100 [==============================] - 34s 337ms/step - loss: 0.6580 - acc: 0.6140 - val_loss: 0.7254 - val_acc: 0.5050\n",
            "Epoch 14/100\n",
            "100/100 [==============================] - 34s 341ms/step - loss: 0.6585 - acc: 0.6105 - val_loss: 0.6388 - val_acc: 0.6390\n",
            "Epoch 15/100\n",
            "100/100 [==============================] - 35s 347ms/step - loss: 0.6603 - acc: 0.6105 - val_loss: 0.6570 - val_acc: 0.6040\n",
            "Epoch 16/100\n",
            "100/100 [==============================] - 34s 335ms/step - loss: 0.6615 - acc: 0.6115 - val_loss: 0.6423 - val_acc: 0.6400\n",
            "Epoch 17/100\n",
            "100/100 [==============================] - 34s 342ms/step - loss: 0.6588 - acc: 0.6085 - val_loss: 0.6483 - val_acc: 0.6170\n",
            "Epoch 18/100\n",
            "100/100 [==============================] - 33s 330ms/step - loss: 0.6597 - acc: 0.6110 - val_loss: 0.6464 - val_acc: 0.6400\n",
            "Epoch 19/100\n",
            "100/100 [==============================] - 34s 336ms/step - loss: 0.6622 - acc: 0.5965 - val_loss: 0.6385 - val_acc: 0.6380\n",
            "Epoch 20/100\n",
            "100/100 [==============================] - 35s 346ms/step - loss: 0.6612 - acc: 0.6080 - val_loss: 0.6389 - val_acc: 0.6410\n",
            "Epoch 21/100\n",
            "100/100 [==============================] - 34s 339ms/step - loss: 0.6527 - acc: 0.6235 - val_loss: 0.6587 - val_acc: 0.6040\n",
            "Epoch 22/100\n",
            "100/100 [==============================] - 35s 347ms/step - loss: 0.6596 - acc: 0.6105 - val_loss: 0.6494 - val_acc: 0.6260\n",
            "Epoch 23/100\n",
            "100/100 [==============================] - 33s 332ms/step - loss: 0.6576 - acc: 0.6065 - val_loss: 0.6416 - val_acc: 0.6410\n",
            "Epoch 24/100\n",
            "100/100 [==============================] - 34s 336ms/step - loss: 0.6630 - acc: 0.6060 - val_loss: 0.6887 - val_acc: 0.5460\n",
            "Epoch 25/100\n",
            "100/100 [==============================] - 34s 341ms/step - loss: 0.6602 - acc: 0.6105 - val_loss: 0.6387 - val_acc: 0.6370\n",
            "Epoch 26/100\n",
            "100/100 [==============================] - 33s 331ms/step - loss: 0.6553 - acc: 0.6025 - val_loss: 0.6538 - val_acc: 0.6130\n",
            "Epoch 27/100\n",
            "100/100 [==============================] - 33s 332ms/step - loss: 0.6586 - acc: 0.6145 - val_loss: 0.6417 - val_acc: 0.6440\n",
            "Epoch 28/100\n",
            "100/100 [==============================] - 33s 329ms/step - loss: 0.6556 - acc: 0.6145 - val_loss: 0.6403 - val_acc: 0.6380\n",
            "Epoch 29/100\n",
            "100/100 [==============================] - 34s 338ms/step - loss: 0.6549 - acc: 0.6135 - val_loss: 0.6374 - val_acc: 0.6280\n",
            "Epoch 30/100\n",
            "100/100 [==============================] - 33s 328ms/step - loss: 0.6563 - acc: 0.6200 - val_loss: 0.6503 - val_acc: 0.6210\n",
            "Epoch 31/100\n",
            "100/100 [==============================] - 33s 331ms/step - loss: 0.6594 - acc: 0.6120 - val_loss: 0.6424 - val_acc: 0.6390\n",
            "Epoch 32/100\n",
            "100/100 [==============================] - 33s 327ms/step - loss: 0.6536 - acc: 0.6155 - val_loss: 0.6462 - val_acc: 0.6290\n",
            "Epoch 33/100\n",
            "100/100 [==============================] - 34s 338ms/step - loss: 0.6621 - acc: 0.6115 - val_loss: 0.6504 - val_acc: 0.6230\n",
            "Epoch 34/100\n",
            "100/100 [==============================] - 34s 342ms/step - loss: 0.6544 - acc: 0.6100 - val_loss: 0.6425 - val_acc: 0.6280\n",
            "Epoch 35/100\n",
            "100/100 [==============================] - 33s 331ms/step - loss: 0.6524 - acc: 0.6110 - val_loss: 0.6351 - val_acc: 0.6460\n",
            "Epoch 36/100\n",
            "100/100 [==============================] - 33s 328ms/step - loss: 0.6584 - acc: 0.6090 - val_loss: 0.6510 - val_acc: 0.6150\n",
            "Epoch 37/100\n",
            "100/100 [==============================] - 33s 326ms/step - loss: 0.6599 - acc: 0.6150 - val_loss: 0.6473 - val_acc: 0.6260\n",
            "Epoch 38/100\n",
            "100/100 [==============================] - 33s 335ms/step - loss: 0.6551 - acc: 0.6145 - val_loss: 0.6541 - val_acc: 0.6120\n",
            "Epoch 39/100\n",
            "100/100 [==============================] - 34s 336ms/step - loss: 0.6520 - acc: 0.6175 - val_loss: 0.6353 - val_acc: 0.6330\n",
            "Epoch 40/100\n",
            "100/100 [==============================] - 33s 327ms/step - loss: 0.6596 - acc: 0.6065 - val_loss: 0.6365 - val_acc: 0.6460\n",
            "Epoch 41/100\n",
            "100/100 [==============================] - 33s 333ms/step - loss: 0.6534 - acc: 0.6250 - val_loss: 0.6352 - val_acc: 0.6390\n",
            "Epoch 42/100\n",
            "100/100 [==============================] - 33s 334ms/step - loss: 0.6528 - acc: 0.6110 - val_loss: 0.6412 - val_acc: 0.6390\n",
            "Epoch 43/100\n",
            "100/100 [==============================] - 32s 324ms/step - loss: 0.6528 - acc: 0.6225 - val_loss: 0.6495 - val_acc: 0.6190\n",
            "Epoch 44/100\n",
            "100/100 [==============================] - 32s 323ms/step - loss: 0.6627 - acc: 0.6150 - val_loss: 0.6382 - val_acc: 0.6380\n",
            "Epoch 45/100\n",
            "100/100 [==============================] - 32s 322ms/step - loss: 0.6572 - acc: 0.6140 - val_loss: 0.6477 - val_acc: 0.6220\n",
            "Epoch 46/100\n",
            "100/100 [==============================] - 32s 324ms/step - loss: 0.6526 - acc: 0.6150 - val_loss: 0.6380 - val_acc: 0.6430\n",
            "Epoch 47/100\n",
            "100/100 [==============================] - 33s 332ms/step - loss: 0.6576 - acc: 0.6120 - val_loss: 0.6396 - val_acc: 0.6450\n",
            "Epoch 48/100\n",
            "100/100 [==============================] - 34s 336ms/step - loss: 0.6563 - acc: 0.6160 - val_loss: 0.6342 - val_acc: 0.6490\n",
            "Epoch 49/100\n",
            "100/100 [==============================] - 32s 322ms/step - loss: 0.6541 - acc: 0.6210 - val_loss: 0.6348 - val_acc: 0.6470\n",
            "Epoch 50/100\n",
            "100/100 [==============================] - 33s 329ms/step - loss: 0.6528 - acc: 0.6195 - val_loss: 0.6452 - val_acc: 0.6110\n",
            "Epoch 51/100\n",
            "100/100 [==============================] - 33s 325ms/step - loss: 0.6478 - acc: 0.6295 - val_loss: 0.6343 - val_acc: 0.6510\n",
            "Epoch 52/100\n",
            "100/100 [==============================] - 32s 321ms/step - loss: 0.6590 - acc: 0.6115 - val_loss: 0.6404 - val_acc: 0.6450\n",
            "Epoch 53/100\n",
            "100/100 [==============================] - 32s 320ms/step - loss: 0.6533 - acc: 0.6220 - val_loss: 0.6389 - val_acc: 0.6460\n",
            "Epoch 54/100\n",
            "100/100 [==============================] - 33s 331ms/step - loss: 0.6562 - acc: 0.6125 - val_loss: 0.6385 - val_acc: 0.6410\n",
            "Epoch 55/100\n",
            "100/100 [==============================] - 33s 332ms/step - loss: 0.6551 - acc: 0.6035 - val_loss: 0.6384 - val_acc: 0.6430\n",
            "Epoch 56/100\n",
            "100/100 [==============================] - 33s 328ms/step - loss: 0.6541 - acc: 0.6175 - val_loss: 0.6353 - val_acc: 0.6430\n",
            "Epoch 57/100\n",
            "100/100 [==============================] - 32s 322ms/step - loss: 0.6528 - acc: 0.6135 - val_loss: 0.6777 - val_acc: 0.5830\n",
            "Epoch 58/100\n",
            "100/100 [==============================] - 34s 336ms/step - loss: 0.6545 - acc: 0.6200 - val_loss: 0.6373 - val_acc: 0.6450\n",
            "Epoch 59/100\n",
            "100/100 [==============================] - 33s 335ms/step - loss: 0.6469 - acc: 0.6250 - val_loss: 0.6363 - val_acc: 0.6490\n",
            "Epoch 60/100\n",
            "100/100 [==============================] - 33s 326ms/step - loss: 0.6526 - acc: 0.6235 - val_loss: 0.6350 - val_acc: 0.6270\n",
            "Epoch 61/100\n",
            "100/100 [==============================] - 33s 330ms/step - loss: 0.6586 - acc: 0.6065 - val_loss: 0.6395 - val_acc: 0.6480\n",
            "Epoch 62/100\n",
            "100/100 [==============================] - 33s 326ms/step - loss: 0.6503 - acc: 0.6115 - val_loss: 0.6320 - val_acc: 0.6520\n",
            "Epoch 63/100\n",
            "100/100 [==============================] - 33s 333ms/step - loss: 0.6588 - acc: 0.6090 - val_loss: 0.6338 - val_acc: 0.6330\n",
            "Epoch 64/100\n",
            "100/100 [==============================] - 33s 325ms/step - loss: 0.6516 - acc: 0.6170 - val_loss: 0.6445 - val_acc: 0.6330\n",
            "Epoch 65/100\n",
            "100/100 [==============================] - 33s 333ms/step - loss: 0.6536 - acc: 0.6170 - val_loss: 0.6520 - val_acc: 0.6110\n",
            "Epoch 66/100\n",
            "100/100 [==============================] - 32s 321ms/step - loss: 0.6510 - acc: 0.6185 - val_loss: 0.6316 - val_acc: 0.6460\n",
            "Epoch 67/100\n",
            "100/100 [==============================] - 33s 327ms/step - loss: 0.6525 - acc: 0.6155 - val_loss: 0.6331 - val_acc: 0.6440\n",
            "Epoch 68/100\n",
            "100/100 [==============================] - 32s 323ms/step - loss: 0.6492 - acc: 0.6225 - val_loss: 0.6334 - val_acc: 0.6460\n",
            "Epoch 69/100\n",
            "100/100 [==============================] - 32s 319ms/step - loss: 0.6442 - acc: 0.6210 - val_loss: 0.6350 - val_acc: 0.6440\n",
            "Epoch 70/100\n",
            "100/100 [==============================] - 34s 336ms/step - loss: 0.6523 - acc: 0.6315 - val_loss: 0.6351 - val_acc: 0.6470\n",
            "Epoch 71/100\n",
            "100/100 [==============================] - 32s 318ms/step - loss: 0.6525 - acc: 0.6225 - val_loss: 0.6301 - val_acc: 0.6450\n",
            "Epoch 72/100\n",
            "100/100 [==============================] - 33s 328ms/step - loss: 0.6525 - acc: 0.6195 - val_loss: 0.6298 - val_acc: 0.6530\n",
            "Epoch 73/100\n",
            "100/100 [==============================] - 33s 327ms/step - loss: 0.6438 - acc: 0.6285 - val_loss: 0.6531 - val_acc: 0.6100\n",
            "Epoch 74/100\n",
            "100/100 [==============================] - 32s 321ms/step - loss: 0.6523 - acc: 0.6130 - val_loss: 0.6317 - val_acc: 0.6450\n",
            "Epoch 75/100\n",
            "100/100 [==============================] - 32s 321ms/step - loss: 0.6564 - acc: 0.6190 - val_loss: 0.6407 - val_acc: 0.6220\n",
            "Epoch 76/100\n",
            "100/100 [==============================] - 32s 324ms/step - loss: 0.6463 - acc: 0.6330 - val_loss: 0.6300 - val_acc: 0.6490\n",
            "Epoch 77/100\n",
            "100/100 [==============================] - 32s 322ms/step - loss: 0.6467 - acc: 0.6305 - val_loss: 0.6753 - val_acc: 0.5950\n",
            "Epoch 78/100\n",
            "100/100 [==============================] - 33s 325ms/step - loss: 0.6576 - acc: 0.6125 - val_loss: 0.6311 - val_acc: 0.6430\n",
            "Epoch 79/100\n",
            "100/100 [==============================] - 32s 323ms/step - loss: 0.6513 - acc: 0.6195 - val_loss: 0.6509 - val_acc: 0.6120\n",
            "Epoch 80/100\n",
            "100/100 [==============================] - 33s 332ms/step - loss: 0.6464 - acc: 0.6340 - val_loss: 0.6452 - val_acc: 0.6240\n",
            "Epoch 81/100\n",
            "100/100 [==============================] - 33s 325ms/step - loss: 0.6491 - acc: 0.6255 - val_loss: 0.6283 - val_acc: 0.6510\n",
            "Epoch 82/100\n",
            "100/100 [==============================] - 33s 332ms/step - loss: 0.6484 - acc: 0.6290 - val_loss: 0.6498 - val_acc: 0.6240\n",
            "Epoch 83/100\n",
            "100/100 [==============================] - 33s 334ms/step - loss: 0.6530 - acc: 0.6070 - val_loss: 0.6435 - val_acc: 0.6240\n",
            "Epoch 84/100\n",
            "100/100 [==============================] - 32s 319ms/step - loss: 0.6508 - acc: 0.6230 - val_loss: 0.6296 - val_acc: 0.6530\n",
            "Epoch 85/100\n",
            "100/100 [==============================] - 32s 318ms/step - loss: 0.6545 - acc: 0.6100 - val_loss: 0.6269 - val_acc: 0.6580\n",
            "Epoch 86/100\n",
            "100/100 [==============================] - 32s 324ms/step - loss: 0.6484 - acc: 0.6180 - val_loss: 0.6277 - val_acc: 0.6330\n",
            "Epoch 87/100\n",
            "100/100 [==============================] - 32s 322ms/step - loss: 0.6536 - acc: 0.6205 - val_loss: 0.6412 - val_acc: 0.6420\n",
            "Epoch 88/100\n",
            "100/100 [==============================] - 33s 331ms/step - loss: 0.6550 - acc: 0.6180 - val_loss: 0.6334 - val_acc: 0.6560\n",
            "Epoch 89/100\n",
            "100/100 [==============================] - 33s 335ms/step - loss: 0.6573 - acc: 0.6045 - val_loss: 0.6377 - val_acc: 0.6450\n",
            "Epoch 90/100\n",
            "100/100 [==============================] - 32s 320ms/step - loss: 0.6537 - acc: 0.6200 - val_loss: 0.6330 - val_acc: 0.6540\n",
            "Epoch 91/100\n",
            "100/100 [==============================] - 32s 322ms/step - loss: 0.6497 - acc: 0.6280 - val_loss: 0.6280 - val_acc: 0.6500\n",
            "Epoch 92/100\n",
            "100/100 [==============================] - 32s 322ms/step - loss: 0.6486 - acc: 0.6285 - val_loss: 0.6314 - val_acc: 0.6520\n",
            "Epoch 93/100\n",
            "100/100 [==============================] - 32s 320ms/step - loss: 0.6526 - acc: 0.6180 - val_loss: 0.6498 - val_acc: 0.6120\n",
            "Epoch 94/100\n",
            "100/100 [==============================] - 32s 322ms/step - loss: 0.6526 - acc: 0.6270 - val_loss: 0.6310 - val_acc: 0.6500\n",
            "Epoch 95/100\n",
            "100/100 [==============================] - 32s 317ms/step - loss: 0.6449 - acc: 0.6350 - val_loss: 0.6339 - val_acc: 0.6370\n",
            "Epoch 96/100\n",
            "100/100 [==============================] - 32s 316ms/step - loss: 0.6505 - acc: 0.6165 - val_loss: 0.6358 - val_acc: 0.6400\n",
            "Epoch 97/100\n",
            "100/100 [==============================] - 34s 336ms/step - loss: 0.6495 - acc: 0.6190 - val_loss: 0.6485 - val_acc: 0.6150\n",
            "Epoch 98/100\n",
            "100/100 [==============================] - 32s 319ms/step - loss: 0.6447 - acc: 0.6230 - val_loss: 0.6385 - val_acc: 0.6450\n",
            "Epoch 99/100\n",
            "100/100 [==============================] - 32s 318ms/step - loss: 0.6499 - acc: 0.6240 - val_loss: 0.6340 - val_acc: 0.6270\n",
            "Epoch 100/100\n",
            "100/100 [==============================] - 32s 322ms/step - loss: 0.6522 - acc: 0.6185 - val_loss: 0.6484 - val_acc: 0.6160\n"
          ]
        }
      ]
    },
    {
      "cell_type": "code",
      "source": [],
      "metadata": {
        "id": "ka0Wxrnv9Zlk"
      },
      "execution_count": null,
      "outputs": []
    }
  ]
}